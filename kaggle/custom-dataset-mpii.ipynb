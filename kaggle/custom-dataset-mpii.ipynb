{
 "cells": [
  {
   "cell_type": "code",
   "execution_count": null,
   "metadata": {
    "_cell_guid": "b1076dfc-b9ad-4769-8c92-a6c4dae69d19",
    "_uuid": "8f2839f25d086af736a60e9eeb907d3b93b6e0e5",
    "trusted": true
   },
   "outputs": [],
   "source": [
    "# prompt: Check the version of tensorflow installed\n",
    "\n",
    "import tensorflow as tf\n",
    "tf.__version__\n",
    "import sys\n",
    "sys.version"
   ]
  },
  {
   "cell_type": "code",
   "execution_count": null,
   "metadata": {
    "trusted": true
   },
   "outputs": [],
   "source": [
    "!rm -rf lcn-pose  # Elimina la cartella esistente\n",
    "!git clone \"https://github.com/adgx/lcn-pose/\""
   ]
  },
  {
   "cell_type": "code",
   "execution_count": null,
   "metadata": {
    "trusted": true
   },
   "outputs": [],
   "source": [
    "import os\n",
    "os.chdir(\"/kaggle/working/lcn-pose/\")\n",
    "!mkdir -p \"dataset\""
   ]
  },
  {
   "cell_type": "code",
   "execution_count": null,
   "metadata": {
    "trusted": true
   },
   "outputs": [],
   "source": [
    "# Scarichi il dataset\n",
    "!gdown 1fQjLUCminZZw4RMuvz2sn2LoIi-XpwZ0\n"
   ]
  },
  {
   "cell_type": "code",
   "execution_count": null,
   "metadata": {
    "trusted": true
   },
   "outputs": [],
   "source": [
    "import zipfile\n",
    "with zipfile.ZipFile(\"/kaggle/working/lcn-pose/mpi_inf_3dhp.zip\", 'r') as zip_ref:\n",
    "    zip_ref.extractall(\"/kaggle/working/lcn-pose/dataset/\")\n"
   ]
  },
  {
   "cell_type": "code",
   "execution_count": null,
   "metadata": {
    "trusted": true
   },
   "outputs": [],
   "source": [
    "import tensorflow as tf\n",
    "print(\"Num GPUs Available: \", len(tf.config.list_physical_devices('GPU')))"
   ]
  },
  {
   "cell_type": "code",
   "execution_count": null,
   "metadata": {
    "trusted": true
   },
   "outputs": [],
   "source": [
    "TRAIN_SET = \"mpii\"\n",
    "VALIDATION_SET = \"mpii\"\n",
    "TEST_SET = \"mpii\"\n",
    "MASK_TYPE = \"locally_connected\"\n",
    "F = 32\n",
    "EPOCH = 100\n",
    "REGULARIZATION = 0.000\n",
    "LEARNING_RATE = 0.001\n",
    "DROPOUT = 0.30\n",
    "LAYERS = 5\n",
    "BATCH_SIZE = 512\n",
    "KNN = 1\n",
    "TEST_INDICES = 1"
   ]
  },
  {
   "cell_type": "code",
   "execution_count": null,
   "metadata": {
    "_kg_hide-output": true,
    "trusted": true
   },
   "outputs": [],
   "source": [
    "!python train.py --train_set={TRAIN_SET} --validation_set={VALIDATION_SET} --mask-type {MASK_TYPE} --channels {F} --epoch={EPOCH} --dropout {DROPOUT} --layers {LAYERS} --batch_size {BATCH_SIZE} --knn {KNN} --learning_rate {LEARNING_RATE} --test-indices {TEST_INDICES} --regularization {REGULARIZATION} "
   ]
  },
  {
   "cell_type": "code",
   "execution_count": null,
   "metadata": {
    "trusted": true
   },
   "outputs": [],
   "source": [
    "!python inference.py --train_set={TRAIN_SET} --test_set={TEST_SET} --mask-type {MASK_TYPE} --channels {F} --epoch={EPOCH} --dropout {DROPOUT} --layers {LAYERS} --batch_size {BATCH_SIZE} --knn {KNN} --learning_rate {LEARNING_RATE} --test-indices {TEST_INDICES} --regularization {REGULARIZATION} --checkpoints best"
   ]
  },
  {
   "cell_type": "code",
   "execution_count": null,
   "metadata": {
    "trusted": true
   },
   "outputs": [],
   "source": [
    "!python evaluate.py --test-indices {TEST_INDICES} --per-joint --filename {TEST_SET}"
   ]
  }
 ],
 "metadata": {
  "kaggle": {
   "accelerator": "gpu",
   "dataSources": [],
   "isGpuEnabled": true,
   "isInternetEnabled": true,
   "language": "python",
   "sourceType": "notebook"
  },
  "kernelspec": {
   "display_name": "Python 3",
   "language": "python",
   "name": "python3"
  },
  "language_info": {
   "codemirror_mode": {
    "name": "ipython",
    "version": 3
   },
   "file_extension": ".py",
   "mimetype": "text/x-python",
   "name": "python",
   "nbconvert_exporter": "python",
   "pygments_lexer": "ipython3",
   "version": "3.11.13"
  }
 },
 "nbformat": 4,
 "nbformat_minor": 4
}
