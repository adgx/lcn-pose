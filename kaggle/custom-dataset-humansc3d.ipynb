{
 "cells": [
  {
   "cell_type": "markdown",
   "metadata": {
    "_kg_hide-input": true,
    "_kg_hide-output": true
   },
   "source": [
    "# Setup"
   ]
  },
  {
   "cell_type": "code",
   "execution_count": 1,
   "metadata": {
    "_cell_guid": "b1076dfc-b9ad-4769-8c92-a6c4dae69d19",
    "_uuid": "8f2839f25d086af736a60e9eeb907d3b93b6e0e5",
    "execution": {
     "iopub.execute_input": "2025-08-19T12:32:31.811331Z",
     "iopub.status.busy": "2025-08-19T12:32:31.811034Z",
     "iopub.status.idle": "2025-08-19T12:32:47.628793Z",
     "shell.execute_reply": "2025-08-19T12:32:47.628047Z",
     "shell.execute_reply.started": "2025-08-19T12:32:31.811307Z"
    },
    "trusted": true
   },
   "outputs": [
    {
     "name": "stderr",
     "output_type": "stream",
     "text": [
      "2025-08-19 12:32:33.384890: E external/local_xla/xla/stream_executor/cuda/cuda_fft.cc:477] Unable to register cuFFT factory: Attempting to register factory for plugin cuFFT when one has already been registered\n",
      "WARNING: All log messages before absl::InitializeLog() is called are written to STDERR\n",
      "E0000 00:00:1755606753.588863      36 cuda_dnn.cc:8310] Unable to register cuDNN factory: Attempting to register factory for plugin cuDNN when one has already been registered\n",
      "E0000 00:00:1755606753.646583      36 cuda_blas.cc:1418] Unable to register cuBLAS factory: Attempting to register factory for plugin cuBLAS when one has already been registered\n"
     ]
    },
    {
     "data": {
      "text/plain": [
       "'3.11.13 (main, Jun  4 2025, 08:57:29) [GCC 11.4.0]'"
      ]
     },
     "execution_count": 1,
     "metadata": {},
     "output_type": "execute_result"
    }
   ],
   "source": [
    "# prompt: Check the version of tensorflow installed\n",
    "\n",
    "import tensorflow as tf\n",
    "tf.__version__\n",
    "import sys\n",
    "sys.version"
   ]
  },
  {
   "cell_type": "code",
   "execution_count": 2,
   "metadata": {
    "execution": {
     "iopub.execute_input": "2025-08-19T12:32:47.630135Z",
     "iopub.status.busy": "2025-08-19T12:32:47.629585Z",
     "iopub.status.idle": "2025-08-19T12:32:51.069448Z",
     "shell.execute_reply": "2025-08-19T12:32:51.068489Z",
     "shell.execute_reply.started": "2025-08-19T12:32:47.630109Z"
    },
    "trusted": true
   },
   "outputs": [
    {
     "name": "stdout",
     "output_type": "stream",
     "text": [
      "Collecting kaggle\n",
      "  Downloading kaggle-1.7.4.5-py3-none-any.whl.metadata (16 kB)\n",
      "Downloading kaggle-1.7.4.5-py3-none-any.whl (181 kB)\n",
      "\u001b[2K   \u001b[90m━━━━━━━━━━━━━━━━━━━━━━━━━━━━━━━━━━━━━━━━\u001b[0m \u001b[32m181.2/181.2 kB\u001b[0m \u001b[31m1.9 MB/s\u001b[0m eta \u001b[36m0:00:00\u001b[0ma \u001b[36m0:00:01\u001b[0m\n",
      "\u001b[?25hInstalling collected packages: kaggle\n",
      "  Attempting uninstall: kaggle\n",
      "    Found existing installation: kaggle 1.7.4.5\n",
      "    Uninstalling kaggle-1.7.4.5:\n",
      "      Successfully uninstalled kaggle-1.7.4.5\n",
      "Successfully installed kaggle-1.7.4.5\n"
     ]
    }
   ],
   "source": [
    "!pip install --upgrade --force-reinstall --no-deps kaggle"
   ]
  },
  {
   "cell_type": "code",
   "execution_count": 3,
   "metadata": {
    "execution": {
     "iopub.execute_input": "2025-08-19T12:32:51.071787Z",
     "iopub.status.busy": "2025-08-19T12:32:51.071555Z",
     "iopub.status.idle": "2025-08-19T12:32:53.145670Z",
     "shell.execute_reply": "2025-08-19T12:32:53.144739Z",
     "shell.execute_reply.started": "2025-08-19T12:32:51.071767Z"
    },
    "trusted": true
   },
   "outputs": [
    {
     "name": "stdout",
     "output_type": "stream",
     "text": [
      "Cloning into 'lcn-pose'...\n",
      "remote: Enumerating objects: 797, done.\u001b[K\n",
      "remote: Counting objects: 100% (65/65), done.\u001b[K\n",
      "remote: Compressing objects: 100% (49/49), done.\u001b[K\n",
      "remote: Total 797 (delta 19), reused 32 (delta 10), pack-reused 732 (from 1)\u001b[K\n",
      "Receiving objects: 100% (797/797), 11.37 MiB | 17.83 MiB/s, done.\n",
      "Resolving deltas: 100% (476/476), done.\n"
     ]
    }
   ],
   "source": [
    "!rm -rf lcn-pose  # Elimina la cartella esistente\n",
    "!git clone \"https://github.com/adgx/lcn-pose/\""
   ]
  },
  {
   "cell_type": "code",
   "execution_count": 4,
   "metadata": {
    "execution": {
     "iopub.execute_input": "2025-08-19T12:32:53.147116Z",
     "iopub.status.busy": "2025-08-19T12:32:53.146741Z",
     "iopub.status.idle": "2025-08-19T12:32:53.151265Z",
     "shell.execute_reply": "2025-08-19T12:32:53.150453Z",
     "shell.execute_reply.started": "2025-08-19T12:32:53.147090Z"
    },
    "trusted": true
   },
   "outputs": [],
   "source": [
    "import os\n",
    "os.chdir(\"/kaggle/working/lcn-pose\")"
   ]
  },
  {
   "cell_type": "code",
   "execution_count": 5,
   "metadata": {
    "execution": {
     "iopub.execute_input": "2025-08-19T12:32:53.152466Z",
     "iopub.status.busy": "2025-08-19T12:32:53.152172Z",
     "iopub.status.idle": "2025-08-19T12:32:53.307983Z",
     "shell.execute_reply": "2025-08-19T12:32:53.307107Z",
     "shell.execute_reply.started": "2025-08-19T12:32:53.152441Z"
    },
    "trusted": true
   },
   "outputs": [],
   "source": [
    "import os\n",
    "os.chdir(\"/kaggle/working/lcn-pose/\")\n",
    "!mkdir -p \"dataset\"\n"
   ]
  },
  {
   "cell_type": "markdown",
   "metadata": {},
   "source": [
    "# Datasets"
   ]
  },
  {
   "cell_type": "markdown",
   "metadata": {},
   "source": [
    "**HumanSC3D**"
   ]
  },
  {
   "cell_type": "markdown",
   "metadata": {},
   "source": [
    "Training set"
   ]
  },
  {
   "cell_type": "code",
   "execution_count": 6,
   "metadata": {
    "execution": {
     "iopub.execute_input": "2025-08-19T12:32:53.309661Z",
     "iopub.status.busy": "2025-08-19T12:32:53.309073Z",
     "iopub.status.idle": "2025-08-19T12:33:05.408123Z",
     "shell.execute_reply": "2025-08-19T12:33:05.407037Z",
     "shell.execute_reply.started": "2025-08-19T12:32:53.309622Z"
    },
    "trusted": true
   },
   "outputs": [
    {
     "name": "stdout",
     "output_type": "stream",
     "text": [
      "Downloading...\n",
      "From (original): https://drive.google.com/uc?id=1EU6JX-qY5ACOKHB1cis9C4_tCvtYrX0C\n",
      "From (redirected): https://drive.google.com/uc?id=1EU6JX-qY5ACOKHB1cis9C4_tCvtYrX0C&confirm=t&uuid=3c7181c6-111a-422d-b3ad-2edd33623fa8\n",
      "To: /kaggle/working/lcn-pose/humansc3d_train.pkl\n",
      "100%|████████████████████████████████████████| 573M/573M [00:09<00:00, 57.9MB/s]\n"
     ]
    }
   ],
   "source": [
    "# Scarichi il dataset\n",
    "!gdown 1EU6JX-qY5ACOKHB1cis9C4_tCvtYrX0C\n",
    "!mv \"/kaggle/working/lcn-pose/humansc3d_train.pkl\" \"/kaggle/working/lcn-pose/dataset\""
   ]
  },
  {
   "cell_type": "markdown",
   "metadata": {},
   "source": [
    "Validationset"
   ]
  },
  {
   "cell_type": "code",
   "execution_count": 7,
   "metadata": {
    "execution": {
     "iopub.execute_input": "2025-08-19T12:33:05.409678Z",
     "iopub.status.busy": "2025-08-19T12:33:05.409346Z",
     "iopub.status.idle": "2025-08-19T12:33:13.991424Z",
     "shell.execute_reply": "2025-08-19T12:33:13.990343Z",
     "shell.execute_reply.started": "2025-08-19T12:33:05.409641Z"
    },
    "trusted": true
   },
   "outputs": [
    {
     "name": "stdout",
     "output_type": "stream",
     "text": [
      "Downloading...\n",
      "From (original): https://drive.google.com/uc?id=1DuLIyHCy6JOyOoTlLvyBwZrcn8a3noBK\n",
      "From (redirected): https://drive.google.com/uc?id=1DuLIyHCy6JOyOoTlLvyBwZrcn8a3noBK&confirm=t&uuid=cd37c293-aedc-4d04-8c68-6b42f3571646\n",
      "To: /kaggle/working/lcn-pose/humansc3d_val.pkl\n",
      "100%|████████████████████████████████████████| 188M/188M [00:05<00:00, 34.9MB/s]\n"
     ]
    }
   ],
   "source": [
    "!gdown 1DuLIyHCy6JOyOoTlLvyBwZrcn8a3noBK \n",
    "!mv \"/kaggle/working/lcn-pose/humansc3d_val.pkl\" \"/kaggle/working/lcn-pose/dataset\""
   ]
  },
  {
   "cell_type": "markdown",
   "metadata": {},
   "source": [
    "Testset"
   ]
  },
  {
   "cell_type": "code",
   "execution_count": 8,
   "metadata": {
    "execution": {
     "iopub.execute_input": "2025-08-19T12:33:13.993127Z",
     "iopub.status.busy": "2025-08-19T12:33:13.992802Z",
     "iopub.status.idle": "2025-08-19T12:33:20.528256Z",
     "shell.execute_reply": "2025-08-19T12:33:20.527355Z",
     "shell.execute_reply.started": "2025-08-19T12:33:13.993092Z"
    },
    "trusted": true
   },
   "outputs": [
    {
     "name": "stdout",
     "output_type": "stream",
     "text": [
      "Downloading...\n",
      "From (original): https://drive.google.com/uc?id=1AsQJROQmoQDYduBuTMbSCQXOaUBG1vMC\n",
      "From (redirected): https://drive.google.com/uc?id=1AsQJROQmoQDYduBuTMbSCQXOaUBG1vMC&confirm=t&uuid=3e53f2c4-ab00-4d79-9e37-dca9cd815f92\n",
      "To: /kaggle/working/lcn-pose/humansc3d_test.pkl\n",
      "100%|████████████████████████████████████████| 182M/182M [00:03<00:00, 54.5MB/s]\n"
     ]
    }
   ],
   "source": [
    "!gdown 1AsQJROQmoQDYduBuTMbSCQXOaUBG1vMC\n",
    "!mv \"/kaggle/working/lcn-pose/humansc3d_test.pkl\" \"/kaggle/working/lcn-pose/dataset\""
   ]
  },
  {
   "cell_type": "markdown",
   "metadata": {},
   "source": [
    "# Training"
   ]
  },
  {
   "cell_type": "code",
   "execution_count": 9,
   "metadata": {
    "execution": {
     "iopub.execute_input": "2025-08-19T12:33:20.531734Z",
     "iopub.status.busy": "2025-08-19T12:33:20.531051Z",
     "iopub.status.idle": "2025-08-19T12:33:21.142307Z",
     "shell.execute_reply": "2025-08-19T12:33:21.141551Z",
     "shell.execute_reply.started": "2025-08-19T12:33:20.531708Z"
    },
    "trusted": true
   },
   "outputs": [
    {
     "name": "stdout",
     "output_type": "stream",
     "text": [
      "Num GPUs Available:  1\n"
     ]
    }
   ],
   "source": [
    "import tensorflow as tf\n",
    "print(\"Num GPUs Available: \", len(tf.config.list_physical_devices('GPU')))"
   ]
  },
  {
   "cell_type": "markdown",
   "metadata": {},
   "source": [
    "**Hyperparameters**"
   ]
  },
  {
   "cell_type": "code",
   "execution_count": 32,
   "metadata": {
    "execution": {
     "iopub.execute_input": "2025-08-19T14:22:46.661240Z",
     "iopub.status.busy": "2025-08-19T14:22:46.660960Z",
     "iopub.status.idle": "2025-08-19T14:22:46.665964Z",
     "shell.execute_reply": "2025-08-19T14:22:46.665368Z",
     "shell.execute_reply.started": "2025-08-19T14:22:46.661218Z"
    },
    "trusted": true
   },
   "outputs": [],
   "source": [
    "TRAIN_SET = \"humansc3d\"\n",
    "VALIDATION_SET = \"humansc3d\"\n",
    "TEST_SET = \"humansc3d\"\n",
    "MASK_TYPE = \"locally_connected\"\n",
    "F = 64\n",
    "EPOCH = 100\n",
    "REGULARIZATION = 0.000\n",
    "LEARNING_RATE = 0.001\n",
    "DROPOUT = 0.30\n",
    "LAYERS = 5\n",
    "BATCH_SIZE = 512\n",
    "KNN = 1\n",
    "TEST_INDICES = 2"
   ]
  },
  {
   "cell_type": "code",
   "execution_count": 35,
   "metadata": {
    "execution": {
     "iopub.execute_input": "2025-08-19T14:34:22.448140Z",
     "iopub.status.busy": "2025-08-19T14:34:22.447362Z",
     "iopub.status.idle": "2025-08-19T15:13:07.051972Z",
     "shell.execute_reply": "2025-08-19T15:13:07.051163Z",
     "shell.execute_reply.started": "2025-08-19T14:34:22.448109Z"
    },
    "trusted": true
   },
   "outputs": [
    {
     "name": "stdout",
     "output_type": "stream",
     "text": [
      "2025-08-19 14:34:22.997117: E external/local_xla/xla/stream_executor/cuda/cuda_fft.cc:477] Unable to register cuFFT factory: Attempting to register factory for plugin cuFFT when one has already been registered\n",
      "WARNING: All log messages before absl::InitializeLog() is called are written to STDERR\n",
      "E0000 00:00:1755614063.017474    4624 cuda_dnn.cc:8310] Unable to register cuDNN factory: Attempting to register factory for plugin cuDNN when one has already been registered\n",
      "E0000 00:00:1755614063.023559    4624 cuda_blas.cc:1418] Unable to register cuBLAS factory: Attempting to register factory for plugin cuBLAS when one has already been registered\n",
      "loading humansc3d_train.pkl\n",
      "loading humansc3d_val.pkl\n",
      "{'F': 64,\n",
      " 'batch_norm': True,\n",
      " 'batch_size': 512,\n",
      " 'checkpoints': 'final',\n",
      " 'decay_params': {'decay_rate': 0.96, 'decay_steps': 32000},\n",
      " 'decay_type': 'exp',\n",
      " 'dir_name': 'test2/',\n",
      " 'dropout': 0.3,\n",
      " 'in_F': 2,\n",
      " 'in_joints': 17,\n",
      " 'init_type': 'same',\n",
      " 'is_training': True,\n",
      " 'knn': 1,\n",
      " 'learning_rate': 0.001,\n",
      " 'mask_type': 'locally_connected',\n",
      " 'max_norm': True,\n",
      " 'neighbour_matrix': array([[1., 1., 0., 0., 1., 0., 0., 1., 0., 0., 0., 0., 0., 0., 0., 0.,\n",
      "        0.],\n",
      "       [1., 1., 1., 0., 0., 0., 0., 1., 0., 0., 0., 0., 0., 0., 0., 0.,\n",
      "        0.],\n",
      "       [0., 1., 1., 1., 0., 0., 0., 0., 0., 0., 0., 0., 0., 0., 0., 0.,\n",
      "        0.],\n",
      "       [0., 0., 1., 1., 0., 0., 0., 0., 0., 0., 0., 0., 0., 0., 0., 0.,\n",
      "        0.],\n",
      "       [1., 0., 0., 0., 1., 1., 0., 1., 0., 0., 0., 0., 0., 0., 0., 0.,\n",
      "        0.],\n",
      "       [0., 0., 0., 0., 1., 1., 1., 0., 0., 0., 0., 0., 0., 0., 0., 0.,\n",
      "        0.],\n",
      "       [0., 0., 0., 0., 0., 1., 1., 0., 0., 0., 0., 0., 0., 0., 0., 0.,\n",
      "        0.],\n",
      "       [1., 1., 0., 0., 1., 0., 0., 1., 1., 0., 0., 1., 0., 0., 1., 0.,\n",
      "        0.],\n",
      "       [0., 0., 0., 0., 0., 0., 0., 1., 1., 1., 0., 1., 0., 0., 1., 0.,\n",
      "        0.],\n",
      "       [0., 0., 0., 0., 0., 0., 0., 0., 1., 1., 1., 0., 0., 0., 0., 0.,\n",
      "        0.],\n",
      "       [0., 0., 0., 0., 0., 0., 0., 0., 0., 1., 1., 0., 0., 0., 0., 0.,\n",
      "        0.],\n",
      "       [0., 0., 0., 0., 0., 0., 0., 1., 1., 0., 0., 1., 1., 0., 0., 0.,\n",
      "        0.],\n",
      "       [0., 0., 0., 0., 0., 0., 0., 0., 0., 0., 0., 1., 1., 1., 0., 0.,\n",
      "        0.],\n",
      "       [0., 0., 0., 0., 0., 0., 0., 0., 0., 0., 0., 0., 1., 1., 0., 0.,\n",
      "        0.],\n",
      "       [0., 0., 0., 0., 0., 0., 0., 1., 1., 0., 0., 0., 0., 0., 1., 1.,\n",
      "        0.],\n",
      "       [0., 0., 0., 0., 0., 0., 0., 0., 0., 0., 0., 0., 0., 0., 1., 1.,\n",
      "        1.],\n",
      "       [0., 0., 0., 0., 0., 0., 0., 0., 0., 0., 0., 0., 0., 0., 0., 1.,\n",
      "        1.]], dtype=float32),\n",
      " 'num_epochs': 100,\n",
      " 'num_layers': 5,\n",
      " 'out_joints': 17,\n",
      " 'regularization': 0.0,\n",
      " 'residual': True}\n",
      "I0000 00:00:1755614101.952270    4624 gpu_device.cc:2022] Created device /job:localhost/replica:0/task:0/device:GPU:0 with 15513 MB memory:  -> device: 0, name: Tesla P100-PCIE-16GB, pci bus id: 0000:00:04.0, compute capability: 6.0\n",
      "WARNING: All log messages before absl::InitializeLog() is called are written to STDERR\n",
      "I0000 00:00:1755614102.071111    4624 mlir_graph_optimization_pass.cc:401] MLIR V1 optimization pass is not enabled\n",
      "Total steps to be done to complete all the epochs: 95746\n",
      "step 957 / 95746 (epoch 1.00 / 100):\n",
      "  learning_rate = 9.99e-04, loss_average = 2.4041e-03\n",
      "validation loss: 2.3495e-03\n",
      "time: 16s (wall 22s)\n",
      "step 1914 / 95746 (epoch 2.00 / 100):\n",
      "  learning_rate = 9.98e-04, loss_average = 2.3933e-03\n",
      "validation loss: 2.3440e-03\n",
      "time: 36s (wall 47s)\n",
      "step 2871 / 95746 (epoch 3.00 / 100):\n",
      "  learning_rate = 9.96e-04, loss_average = 2.1107e-03\n",
      "validation loss: 2.0524e-03\n",
      "time: 56s (wall 72s)\n",
      "step 3828 / 95746 (epoch 4.00 / 100):\n",
      "  learning_rate = 9.95e-04, loss_average = 1.1518e-03\n",
      "validation loss: 1.1854e-03\n",
      "time: 75s (wall 96s)\n",
      "step 4785 / 95746 (epoch 5.00 / 100):\n",
      "  learning_rate = 9.94e-04, loss_average = 9.2260e-04\n",
      "validation loss: 9.5374e-04\n",
      "time: 95s (wall 121s)\n",
      "step 5742 / 95746 (epoch 6.00 / 100):\n",
      "  learning_rate = 9.93e-04, loss_average = 6.9449e-04\n",
      "validation loss: 8.0439e-04\n",
      "time: 114s (wall 145s)\n",
      "step 6699 / 95746 (epoch 7.00 / 100):\n",
      "  learning_rate = 9.91e-04, loss_average = 5.8641e-04\n",
      "validation loss: 7.4120e-04\n",
      "time: 133s (wall 169s)\n",
      "step 7656 / 95746 (epoch 8.00 / 100):\n",
      "  learning_rate = 9.90e-04, loss_average = 5.1566e-04\n",
      "validation loss: 7.0886e-04\n",
      "time: 153s (wall 194s)\n",
      "step 8613 / 95746 (epoch 9.00 / 100):\n",
      "  learning_rate = 9.89e-04, loss_average = 4.5868e-04\n",
      "validation loss: 6.7096e-04\n",
      "time: 172s (wall 218s)\n",
      "step 9570 / 95746 (epoch 10.00 / 100):\n",
      "  learning_rate = 9.88e-04, loss_average = 4.1343e-04\n",
      "validation loss: 6.6798e-04\n",
      "time: 192s (wall 243s)\n",
      "step 10527 / 95746 (epoch 10.99 / 100):\n",
      "  learning_rate = 9.87e-04, loss_average = 3.7635e-04\n",
      "validation loss: 6.2926e-04\n",
      "time: 211s (wall 267s)\n",
      "step 11484 / 95746 (epoch 11.99 / 100):\n",
      "  learning_rate = 9.85e-04, loss_average = 3.6014e-04\n",
      "validation loss: 5.9582e-04\n",
      "time: 231s (wall 291s)\n",
      "step 12441 / 95746 (epoch 12.99 / 100):\n",
      "  learning_rate = 9.84e-04, loss_average = 3.3973e-04\n",
      "validation loss: 6.1804e-04\n",
      "time: 250s (wall 316s)\n",
      "step 13398 / 95746 (epoch 13.99 / 100):\n",
      "  learning_rate = 9.83e-04, loss_average = 3.2249e-04\n",
      "validation loss: 5.9668e-04\n",
      "time: 266s (wall 337s)\n",
      "step 14355 / 95746 (epoch 14.99 / 100):\n",
      "  learning_rate = 9.82e-04, loss_average = 3.0703e-04\n",
      "validation loss: 6.1060e-04\n",
      "time: 283s (wall 359s)\n",
      "step 15312 / 95746 (epoch 15.99 / 100):\n",
      "  learning_rate = 9.81e-04, loss_average = 2.7550e-04\n",
      "validation loss: 5.6468e-04\n",
      "time: 300s (wall 381s)\n",
      "step 16269 / 95746 (epoch 16.99 / 100):\n",
      "  learning_rate = 9.79e-04, loss_average = 2.7832e-04\n",
      "validation loss: 5.6294e-04\n",
      "time: 318s (wall 405s)\n",
      "step 17226 / 95746 (epoch 17.99 / 100):\n",
      "  learning_rate = 9.78e-04, loss_average = 2.6442e-04\n",
      "validation loss: 5.7882e-04\n",
      "time: 338s (wall 430s)\n",
      "step 18183 / 95746 (epoch 18.99 / 100):\n",
      "  learning_rate = 9.77e-04, loss_average = 2.5379e-04\n",
      "validation loss: 5.9593e-04\n",
      "time: 354s (wall 451s)\n",
      "step 19140 / 95746 (epoch 19.99 / 100):\n",
      "  learning_rate = 9.76e-04, loss_average = 2.3987e-04\n",
      "validation loss: 5.6331e-04\n",
      "time: 371s (wall 473s)\n",
      "step 20097 / 95746 (epoch 20.99 / 100):\n",
      "  learning_rate = 9.75e-04, loss_average = 2.3129e-04\n",
      "validation loss: 6.0911e-04\n",
      "time: 388s (wall 495s)\n",
      "step 21054 / 95746 (epoch 21.99 / 100):\n",
      "  learning_rate = 9.74e-04, loss_average = 2.3088e-04\n",
      "validation loss: 5.6937e-04\n",
      "time: 404s (wall 516s)\n",
      "step 22011 / 95746 (epoch 22.99 / 100):\n",
      "  learning_rate = 9.72e-04, loss_average = 2.2802e-04\n",
      "validation loss: 5.5777e-04\n",
      "time: 420s (wall 538s)\n",
      "step 22968 / 95746 (epoch 23.99 / 100):\n",
      "  learning_rate = 9.71e-04, loss_average = 2.1799e-04\n",
      "validation loss: 5.6563e-04\n",
      "time: 440s (wall 562s)\n",
      "step 23925 / 95746 (epoch 24.99 / 100):\n",
      "  learning_rate = 9.70e-04, loss_average = 2.1534e-04\n",
      "validation loss: 5.5823e-04\n",
      "time: 456s (wall 584s)\n",
      "step 24882 / 95746 (epoch 25.99 / 100):\n",
      "  learning_rate = 9.69e-04, loss_average = 2.1802e-04\n",
      "validation loss: 5.6147e-04\n",
      "time: 472s (wall 606s)\n",
      "step 25839 / 95746 (epoch 26.99 / 100):\n",
      "  learning_rate = 9.68e-04, loss_average = 1.9765e-04\n",
      "validation loss: 5.3944e-04\n",
      "time: 490s (wall 628s)\n",
      "step 26796 / 95746 (epoch 27.99 / 100):\n",
      "  learning_rate = 9.66e-04, loss_average = 2.0018e-04\n",
      "validation loss: 5.5445e-04\n",
      "time: 508s (wall 652s)\n",
      "step 27753 / 95746 (epoch 28.99 / 100):\n",
      "  learning_rate = 9.65e-04, loss_average = 1.9623e-04\n",
      "validation loss: 5.2450e-04\n",
      "time: 525s (wall 674s)\n",
      "step 28710 / 95746 (epoch 29.99 / 100):\n",
      "  learning_rate = 9.64e-04, loss_average = 1.9309e-04\n",
      "validation loss: 5.1353e-04\n",
      "time: 544s (wall 698s)\n",
      "step 29667 / 95746 (epoch 30.99 / 100):\n",
      "  learning_rate = 9.63e-04, loss_average = 1.8600e-04\n",
      "validation loss: 5.2160e-04\n",
      "time: 563s (wall 722s)\n",
      "step 30624 / 95746 (epoch 31.98 / 100):\n",
      "  learning_rate = 9.62e-04, loss_average = 1.8395e-04\n",
      "validation loss: 5.1058e-04\n",
      "time: 580s (wall 744s)\n",
      "step 31581 / 95746 (epoch 32.98 / 100):\n",
      "  learning_rate = 9.61e-04, loss_average = 1.8460e-04\n",
      "validation loss: 5.0625e-04\n",
      "time: 598s (wall 768s)\n",
      "step 32538 / 95746 (epoch 33.98 / 100):\n",
      "  learning_rate = 9.59e-04, loss_average = 1.7563e-04\n",
      "validation loss: 5.1502e-04\n",
      "time: 618s (wall 793s)\n",
      "step 33495 / 95746 (epoch 34.98 / 100):\n",
      "  learning_rate = 9.58e-04, loss_average = 1.6710e-04\n",
      "validation loss: 5.3937e-04\n",
      "time: 634s (wall 814s)\n",
      "step 34452 / 95746 (epoch 35.98 / 100):\n",
      "  learning_rate = 9.57e-04, loss_average = 1.6811e-04\n",
      "validation loss: 5.3217e-04\n",
      "time: 650s (wall 836s)\n",
      "step 35409 / 95746 (epoch 36.98 / 100):\n",
      "  learning_rate = 9.56e-04, loss_average = 1.6262e-04\n",
      "validation loss: 4.9712e-04\n",
      "time: 667s (wall 857s)\n",
      "step 36366 / 95746 (epoch 37.98 / 100):\n",
      "  learning_rate = 9.55e-04, loss_average = 1.6571e-04\n",
      "validation loss: 4.8343e-04\n",
      "time: 686s (wall 882s)\n",
      "step 37323 / 95746 (epoch 38.98 / 100):\n",
      "  learning_rate = 9.54e-04, loss_average = 1.6904e-04\n",
      "validation loss: 5.0224e-04\n",
      "time: 705s (wall 906s)\n",
      "step 38280 / 95746 (epoch 39.98 / 100):\n",
      "  learning_rate = 9.52e-04, loss_average = 1.6388e-04\n",
      "validation loss: 4.7891e-04\n",
      "time: 721s (wall 928s)\n",
      "step 39237 / 95746 (epoch 40.98 / 100):\n",
      "  learning_rate = 9.51e-04, loss_average = 1.5605e-04\n",
      "validation loss: 4.8486e-04\n",
      "time: 741s (wall 952s)\n",
      "step 40194 / 95746 (epoch 41.98 / 100):\n",
      "  learning_rate = 9.50e-04, loss_average = 1.5901e-04\n",
      "validation loss: 4.7510e-04\n",
      "time: 757s (wall 974s)\n",
      "step 41151 / 95746 (epoch 42.98 / 100):\n",
      "  learning_rate = 9.49e-04, loss_average = 1.6964e-04\n",
      "validation loss: 4.6834e-04\n",
      "time: 776s (wall 998s)\n",
      "step 42108 / 95746 (epoch 43.98 / 100):\n",
      "  learning_rate = 9.48e-04, loss_average = 1.5284e-04\n",
      "validation loss: 4.6009e-04\n",
      "time: 795s (wall 1022s)\n",
      "step 43065 / 95746 (epoch 44.98 / 100):\n",
      "  learning_rate = 9.47e-04, loss_average = 1.5893e-04\n",
      "validation loss: 4.6976e-04\n",
      "time: 814s (wall 1046s)\n",
      "step 44022 / 95746 (epoch 45.98 / 100):\n",
      "  learning_rate = 9.45e-04, loss_average = 1.5087e-04\n",
      "validation loss: 4.6324e-04\n",
      "time: 831s (wall 1069s)\n",
      "step 44979 / 95746 (epoch 46.98 / 100):\n",
      "  learning_rate = 9.44e-04, loss_average = 1.5026e-04\n",
      "validation loss: 4.6402e-04\n",
      "time: 847s (wall 1090s)\n",
      "step 45936 / 95746 (epoch 47.98 / 100):\n",
      "  learning_rate = 9.43e-04, loss_average = 1.4841e-04\n",
      "validation loss: 4.5312e-04\n",
      "time: 864s (wall 1112s)\n",
      "step 46893 / 95746 (epoch 48.98 / 100):\n",
      "  learning_rate = 9.42e-04, loss_average = 1.5027e-04\n",
      "validation loss: 4.4778e-04\n",
      "time: 883s (wall 1136s)\n",
      "step 47850 / 95746 (epoch 49.98 / 100):\n",
      "  learning_rate = 9.41e-04, loss_average = 1.4653e-04\n",
      "validation loss: 4.4834e-04\n",
      "time: 902s (wall 1160s)\n",
      "step 48807 / 95746 (epoch 50.98 / 100):\n",
      "  learning_rate = 9.40e-04, loss_average = 1.4192e-04\n",
      "validation loss: 4.5443e-04\n",
      "time: 919s (wall 1182s)\n",
      "step 49764 / 95746 (epoch 51.97 / 100):\n",
      "  learning_rate = 9.38e-04, loss_average = 1.4457e-04\n",
      "validation loss: 4.4892e-04\n",
      "time: 935s (wall 1204s)\n",
      "step 50721 / 95746 (epoch 52.97 / 100):\n",
      "  learning_rate = 9.37e-04, loss_average = 1.3689e-04\n",
      "validation loss: 4.3860e-04\n",
      "time: 953s (wall 1226s)\n",
      "step 51678 / 95746 (epoch 53.97 / 100):\n",
      "  learning_rate = 9.36e-04, loss_average = 1.4117e-04\n",
      "validation loss: 4.5386e-04\n",
      "time: 972s (wall 1250s)\n",
      "step 52635 / 95746 (epoch 54.97 / 100):\n",
      "  learning_rate = 9.35e-04, loss_average = 1.4735e-04\n",
      "validation loss: 4.5624e-04\n",
      "time: 988s (wall 1272s)\n",
      "step 53592 / 95746 (epoch 55.97 / 100):\n",
      "  learning_rate = 9.34e-04, loss_average = 1.3991e-04\n",
      "validation loss: 4.3347e-04\n",
      "time: 1004s (wall 1293s)\n",
      "step 54549 / 95746 (epoch 56.97 / 100):\n",
      "  learning_rate = 9.33e-04, loss_average = 1.3827e-04\n",
      "validation loss: 4.3589e-04\n",
      "time: 1024s (wall 1318s)\n",
      "step 55506 / 95746 (epoch 57.97 / 100):\n",
      "  learning_rate = 9.32e-04, loss_average = 1.4249e-04\n",
      "validation loss: 4.3522e-04\n",
      "time: 1040s (wall 1339s)\n",
      "step 56463 / 95746 (epoch 58.97 / 100):\n",
      "  learning_rate = 9.31e-04, loss_average = 1.4217e-04\n",
      "validation loss: 4.1857e-04\n",
      "time: 1057s (wall 1361s)\n",
      "step 57420 / 95746 (epoch 59.97 / 100):\n",
      "  learning_rate = 9.29e-04, loss_average = 1.3667e-04\n",
      "validation loss: 4.2884e-04\n",
      "time: 1076s (wall 1386s)\n",
      "step 58377 / 95746 (epoch 60.97 / 100):\n",
      "  learning_rate = 9.28e-04, loss_average = 1.3881e-04\n",
      "validation loss: 4.2405e-04\n",
      "time: 1093s (wall 1407s)\n",
      "step 59334 / 95746 (epoch 61.97 / 100):\n",
      "  learning_rate = 9.27e-04, loss_average = 1.3711e-04\n",
      "validation loss: 4.4125e-04\n",
      "time: 1109s (wall 1429s)\n",
      "step 60291 / 95746 (epoch 62.97 / 100):\n",
      "  learning_rate = 9.26e-04, loss_average = 1.3850e-04\n",
      "validation loss: 4.1799e-04\n",
      "time: 1126s (wall 1451s)\n",
      "step 61248 / 95746 (epoch 63.97 / 100):\n",
      "  learning_rate = 9.25e-04, loss_average = 1.3912e-04\n",
      "validation loss: 4.3621e-04\n",
      "time: 1145s (wall 1475s)\n",
      "step 62205 / 95746 (epoch 64.97 / 100):\n",
      "  learning_rate = 9.24e-04, loss_average = 1.3457e-04\n",
      "validation loss: 4.2156e-04\n",
      "time: 1162s (wall 1497s)\n",
      "step 63162 / 95746 (epoch 65.97 / 100):\n",
      "  learning_rate = 9.23e-04, loss_average = 1.3496e-04\n",
      "validation loss: 4.0578e-04\n",
      "time: 1179s (wall 1519s)\n",
      "step 64119 / 95746 (epoch 66.97 / 100):\n",
      "  learning_rate = 9.21e-04, loss_average = 1.2921e-04\n",
      "validation loss: 4.1517e-04\n",
      "time: 1198s (wall 1543s)\n",
      "step 65076 / 95746 (epoch 67.97 / 100):\n",
      "  learning_rate = 9.20e-04, loss_average = 1.3102e-04\n",
      "validation loss: 4.0764e-04\n",
      "time: 1215s (wall 1565s)\n",
      "step 66033 / 95746 (epoch 68.97 / 100):\n",
      "  learning_rate = 9.19e-04, loss_average = 1.3041e-04\n",
      "validation loss: 4.2491e-04\n",
      "time: 1231s (wall 1587s)\n",
      "step 66990 / 95746 (epoch 69.97 / 100):\n",
      "  learning_rate = 9.18e-04, loss_average = 1.3042e-04\n",
      "validation loss: 4.1717e-04\n",
      "time: 1248s (wall 1608s)\n",
      "step 67947 / 95746 (epoch 70.97 / 100):\n",
      "  learning_rate = 9.17e-04, loss_average = 1.2578e-04\n",
      "validation loss: 4.1386e-04\n",
      "time: 1264s (wall 1630s)\n",
      "step 68904 / 95746 (epoch 71.97 / 100):\n",
      "  learning_rate = 9.16e-04, loss_average = 1.2587e-04\n",
      "validation loss: 4.1342e-04\n",
      "time: 1280s (wall 1651s)\n",
      "step 69861 / 95746 (epoch 72.96 / 100):\n",
      "  learning_rate = 9.15e-04, loss_average = 1.3046e-04\n",
      "validation loss: 4.2051e-04\n",
      "time: 1297s (wall 1674s)\n",
      "step 70818 / 95746 (epoch 73.96 / 100):\n",
      "  learning_rate = 9.14e-04, loss_average = 1.2890e-04\n",
      "validation loss: 4.2273e-04\n",
      "time: 1314s (wall 1695s)\n",
      "step 71775 / 95746 (epoch 74.96 / 100):\n",
      "  learning_rate = 9.13e-04, loss_average = 1.2933e-04\n",
      "validation loss: 3.9649e-04\n",
      "time: 1330s (wall 1717s)\n",
      "step 72732 / 95746 (epoch 75.96 / 100):\n",
      "  learning_rate = 9.11e-04, loss_average = 1.2793e-04\n",
      "validation loss: 3.9738e-04\n",
      "time: 1349s (wall 1741s)\n",
      "step 73689 / 95746 (epoch 76.96 / 100):\n",
      "  learning_rate = 9.10e-04, loss_average = 1.2661e-04\n",
      "validation loss: 3.9685e-04\n",
      "time: 1366s (wall 1763s)\n",
      "step 74646 / 95746 (epoch 77.96 / 100):\n",
      "  learning_rate = 9.09e-04, loss_average = 1.3262e-04\n",
      "validation loss: 4.0300e-04\n",
      "time: 1382s (wall 1785s)\n",
      "step 75603 / 95746 (epoch 78.96 / 100):\n",
      "  learning_rate = 9.08e-04, loss_average = 1.2198e-04\n",
      "validation loss: 3.9909e-04\n",
      "time: 1399s (wall 1806s)\n",
      "step 76560 / 95746 (epoch 79.96 / 100):\n",
      "  learning_rate = 9.07e-04, loss_average = 1.2672e-04\n",
      "validation loss: 3.9498e-04\n",
      "time: 1415s (wall 1828s)\n",
      "step 77517 / 95746 (epoch 80.96 / 100):\n",
      "  learning_rate = 9.06e-04, loss_average = 1.2524e-04\n",
      "validation loss: 3.9268e-04\n",
      "time: 1434s (wall 1852s)\n",
      "step 78474 / 95746 (epoch 81.96 / 100):\n",
      "  learning_rate = 9.05e-04, loss_average = 1.2640e-04\n",
      "validation loss: 3.9971e-04\n",
      "time: 1453s (wall 1877s)\n",
      "step 79431 / 95746 (epoch 82.96 / 100):\n",
      "  learning_rate = 9.04e-04, loss_average = 1.1979e-04\n",
      "validation loss: 3.7958e-04\n",
      "time: 1470s (wall 1898s)\n",
      "step 80388 / 95746 (epoch 83.96 / 100):\n",
      "  learning_rate = 9.03e-04, loss_average = 1.2193e-04\n",
      "validation loss: 3.9022e-04\n",
      "time: 1490s (wall 1923s)\n",
      "step 81345 / 95746 (epoch 84.96 / 100):\n",
      "  learning_rate = 9.01e-04, loss_average = 1.2315e-04\n",
      "validation loss: 3.9973e-04\n",
      "time: 1507s (wall 1945s)\n",
      "step 82302 / 95746 (epoch 85.96 / 100):\n",
      "  learning_rate = 9.00e-04, loss_average = 1.1926e-04\n",
      "validation loss: 3.9721e-04\n",
      "time: 1523s (wall 1967s)\n",
      "step 83259 / 95746 (epoch 86.96 / 100):\n",
      "  learning_rate = 8.99e-04, loss_average = 1.2536e-04\n",
      "validation loss: 3.8675e-04\n",
      "time: 1540s (wall 1988s)\n",
      "step 84216 / 95746 (epoch 87.96 / 100):\n",
      "  learning_rate = 8.98e-04, loss_average = 1.2155e-04\n",
      "validation loss: 3.9297e-04\n",
      "time: 1556s (wall 2010s)\n",
      "step 85173 / 95746 (epoch 88.96 / 100):\n",
      "  learning_rate = 8.97e-04, loss_average = 1.2132e-04\n",
      "validation loss: 3.8366e-04\n",
      "time: 1573s (wall 2032s)\n",
      "step 86130 / 95746 (epoch 89.96 / 100):\n",
      "  learning_rate = 8.96e-04, loss_average = 1.1972e-04\n",
      "validation loss: 3.8241e-04\n",
      "time: 1589s (wall 2053s)\n",
      "step 87087 / 95746 (epoch 90.96 / 100):\n",
      "  learning_rate = 8.95e-04, loss_average = 1.1751e-04\n",
      "validation loss: 3.6920e-04\n",
      "time: 1606s (wall 2075s)\n",
      "step 88044 / 95746 (epoch 91.96 / 100):\n",
      "  learning_rate = 8.94e-04, loss_average = 1.1760e-04\n",
      "validation loss: 3.8535e-04\n",
      "time: 1626s (wall 2100s)\n",
      "step 89001 / 95746 (epoch 92.96 / 100):\n",
      "  learning_rate = 8.93e-04, loss_average = 1.1802e-04\n",
      "validation loss: 3.6704e-04\n",
      "time: 1642s (wall 2121s)\n",
      "step 89958 / 95746 (epoch 93.95 / 100):\n",
      "  learning_rate = 8.92e-04, loss_average = 1.1801e-04\n",
      "validation loss: 3.6405e-04\n",
      "time: 1661s (wall 2145s)\n",
      "step 90915 / 95746 (epoch 94.95 / 100):\n",
      "  learning_rate = 8.90e-04, loss_average = 1.1905e-04\n",
      "validation loss: 3.9943e-04\n",
      "time: 1680s (wall 2170s)\n",
      "step 91872 / 95746 (epoch 95.95 / 100):\n",
      "  learning_rate = 8.89e-04, loss_average = 1.1756e-04\n",
      "validation loss: 3.6712e-04\n",
      "time: 1697s (wall 2192s)\n",
      "step 92829 / 95746 (epoch 96.95 / 100):\n",
      "  learning_rate = 8.88e-04, loss_average = 1.1748e-04\n",
      "validation loss: 3.7737e-04\n",
      "time: 1713s (wall 2213s)\n",
      "step 93786 / 95746 (epoch 97.95 / 100):\n",
      "  learning_rate = 8.87e-04, loss_average = 1.1482e-04\n",
      "validation loss: 3.8312e-04\n",
      "time: 1730s (wall 2235s)\n",
      "step 94743 / 95746 (epoch 98.95 / 100):\n",
      "  learning_rate = 8.86e-04, loss_average = 1.1388e-04\n",
      "validation loss: 3.7062e-04\n",
      "time: 1747s (wall 2257s)\n",
      "step 95700 / 95746 (epoch 99.95 / 100):\n",
      "  learning_rate = 8.85e-04, loss_average = 1.1916e-04\n",
      "validation loss: 3.7852e-04\n",
      "time: 1764s (wall 2279s)\n",
      "validation loss: trough = 0.0004, mean = 0.00\n",
      "Final training error:  [1755616379.114198, 95700, 0.000119157536]\n",
      "Final validation error:  [0, 95700, 0.0003785235557672975]\n",
      "[0.0023494829060579604, 0.0023439625026401454, 0.0020524429021431347, 0.0011853621448174858, 0.0009537382683903146, 0.0008043855138206708, 0.0007412047827271114, 0.0007088615141443313, 0.0006709599180039029, 0.0006679766724580606, 0.0006292607955664834, 0.0005958200866702175, 0.0006180386631197976, 0.0005966778381241161, 0.0006105992372784722, 0.0005646844538589965, 0.0005629364091828482, 0.0005788154913617479, 0.000595929686516904, 0.0005633096067941871, 0.0006091138837890713, 0.000569368374968015, 0.0005577689131531272, 0.0005656327805090737, 0.000558230911104574, 0.0005614670891957689, 0.0005394415257377983, 0.0005544477538772121, 0.0005244957430169412, 0.0005135322201736098, 0.0005215990667789191, 0.0005105789865493342, 0.000506249048583789, 0.000515022516462946, 0.0005393724137364151, 0.0005321679188672285, 0.0004971218515824695, 0.0004834279730790236, 0.0005022357560380863, 0.00047891274782747796, 0.0004848570367237653, 0.00047510467913009104, 0.00046833505178089176, 0.00046008876304668214, 0.0004697635282905135, 0.00046324480350771856, 0.00046401553261994416, 0.00045311571423281306, 0.00044778204268414265, 0.00044833752178825446, 0.00045442971802791345, 0.0004489208298679361, 0.0004385957620443717, 0.00045386127050219373, 0.0004562391736401465, 0.00043346688445466307, 0.00043588982175496406, 0.00043522273419561395, 0.0004185705088729619, 0.00042884004118164083, 0.00042405168077664463, 0.0004412520010067073, 0.00041799035324563665, 0.00043621175982077156, 0.0004215550654224762, 0.0004057823763596505, 0.0004151733050065761, 0.0004076354934660082, 0.00042490944453330536, 0.0004171734935410137, 0.0004138640093196992, 0.000413416001336556, 0.00042051172263853705, 0.0004227295487750112, 0.00039649209633171623, 0.00039737714473919245, 0.000396848188940881, 0.00040300316455251265, 0.00039909104588765177, 0.00039497735259868524, 0.0003926819986178026, 0.0003997061071065985, 0.0003795752454361785, 0.0003902156999713493, 0.00039972823705080706, 0.0003972104454194181, 0.00038675212556715045, 0.00039296880699850925, 0.00038366412997912575, 0.00038241100972469857, 0.00036919708352928075, 0.00038534861689298904, 0.00036704167041843813, 0.00036405239532480405, 0.0003994299144442568, 0.0003671225839458893, 0.00037736753186872347, 0.00038312338362403274, 0.0003706217383904951, 0.0003785235557672975]\n",
      "0.023845373696471894\n"
     ]
    }
   ],
   "source": [
    "!python train.py --train_set={TRAIN_SET} --validation_set={VALIDATION_SET} --mask-type {MASK_TYPE} --channels {F} --epoch={EPOCH} --dropout {DROPOUT} --layers {LAYERS} --batch_size {BATCH_SIZE} --knn {KNN} --learning_rate {LEARNING_RATE} --test-indices {TEST_INDICES} --regularization {REGULARIZATION} "
   ]
  },
  {
   "cell_type": "markdown",
   "metadata": {},
   "source": [
    "**Download Experiment**"
   ]
  },
  {
   "cell_type": "code",
   "execution_count": 36,
   "metadata": {
    "execution": {
     "iopub.execute_input": "2025-08-19T15:13:33.895130Z",
     "iopub.status.busy": "2025-08-19T15:13:33.894567Z",
     "iopub.status.idle": "2025-08-19T15:14:30.586120Z",
     "shell.execute_reply": "2025-08-19T15:14:30.585501Z",
     "shell.execute_reply.started": "2025-08-19T15:13:33.895098Z"
    },
    "trusted": true
   },
   "outputs": [
    {
     "data": {
      "text/plain": [
       "'/kaggle/working/experiment.zip'"
      ]
     },
     "execution_count": 36,
     "metadata": {},
     "output_type": "execute_result"
    }
   ],
   "source": [
    "import shutil\n",
    "shutil.make_archive(\"/kaggle/working/experiment\", 'zip', \"/kaggle/working/lcn-pose/experiment\")"
   ]
  },
  {
   "cell_type": "markdown",
   "metadata": {},
   "source": [
    "# Inference"
   ]
  },
  {
   "cell_type": "code",
   "execution_count": 37,
   "metadata": {
    "execution": {
     "iopub.execute_input": "2025-08-19T15:14:40.427086Z",
     "iopub.status.busy": "2025-08-19T15:14:40.426839Z",
     "iopub.status.idle": "2025-08-19T15:15:40.296574Z",
     "shell.execute_reply": "2025-08-19T15:15:40.295845Z",
     "shell.execute_reply.started": "2025-08-19T15:14:40.427070Z"
    },
    "trusted": true
   },
   "outputs": [
    {
     "name": "stdout",
     "output_type": "stream",
     "text": [
      "2025-08-19 15:14:40.855640: E external/local_xla/xla/stream_executor/cuda/cuda_fft.cc:477] Unable to register cuFFT factory: Attempting to register factory for plugin cuFFT when one has already been registered\n",
      "WARNING: All log messages before absl::InitializeLog() is called are written to STDERR\n",
      "E0000 00:00:1755616480.878956    5410 cuda_dnn.cc:8310] Unable to register cuDNN factory: Attempting to register factory for plugin cuDNN when one has already been registered\n",
      "E0000 00:00:1755616480.885288    5410 cuda_blas.cc:1418] Unable to register cuBLAS factory: Attempting to register factory for plugin cuBLAS when one has already been registered\n",
      "loading humansc3d_train.pkl\n",
      "loading humansc3d_test.pkl\n",
      "{'F': 64,\n",
      " 'batch_norm': True,\n",
      " 'batch_size': 512,\n",
      " 'checkpoints': 'best',\n",
      " 'decay_params': {'decay_rate': 0.96, 'decay_steps': 32000},\n",
      " 'decay_type': 'exp',\n",
      " 'dir_name': 'test2/',\n",
      " 'dropout': 0.3,\n",
      " 'in_F': 2,\n",
      " 'in_joints': 17,\n",
      " 'init_type': 'same',\n",
      " 'is_training': True,\n",
      " 'knn': 1,\n",
      " 'learning_rate': 0.001,\n",
      " 'mask_type': 'locally_connected',\n",
      " 'max_norm': True,\n",
      " 'neighbour_matrix': array([[1., 1., 0., 0., 1., 0., 0., 1., 0., 0., 0., 0., 0., 0., 0., 0.,\n",
      "        0.],\n",
      "       [1., 1., 1., 0., 0., 0., 0., 1., 0., 0., 0., 0., 0., 0., 0., 0.,\n",
      "        0.],\n",
      "       [0., 1., 1., 1., 0., 0., 0., 0., 0., 0., 0., 0., 0., 0., 0., 0.,\n",
      "        0.],\n",
      "       [0., 0., 1., 1., 0., 0., 0., 0., 0., 0., 0., 0., 0., 0., 0., 0.,\n",
      "        0.],\n",
      "       [1., 0., 0., 0., 1., 1., 0., 1., 0., 0., 0., 0., 0., 0., 0., 0.,\n",
      "        0.],\n",
      "       [0., 0., 0., 0., 1., 1., 1., 0., 0., 0., 0., 0., 0., 0., 0., 0.,\n",
      "        0.],\n",
      "       [0., 0., 0., 0., 0., 1., 1., 0., 0., 0., 0., 0., 0., 0., 0., 0.,\n",
      "        0.],\n",
      "       [1., 1., 0., 0., 1., 0., 0., 1., 1., 0., 0., 1., 0., 0., 1., 0.,\n",
      "        0.],\n",
      "       [0., 0., 0., 0., 0., 0., 0., 1., 1., 1., 0., 1., 0., 0., 1., 0.,\n",
      "        0.],\n",
      "       [0., 0., 0., 0., 0., 0., 0., 0., 1., 1., 1., 0., 0., 0., 0., 0.,\n",
      "        0.],\n",
      "       [0., 0., 0., 0., 0., 0., 0., 0., 0., 1., 1., 0., 0., 0., 0., 0.,\n",
      "        0.],\n",
      "       [0., 0., 0., 0., 0., 0., 0., 1., 1., 0., 0., 1., 1., 0., 0., 0.,\n",
      "        0.],\n",
      "       [0., 0., 0., 0., 0., 0., 0., 0., 0., 0., 0., 1., 1., 1., 0., 0.,\n",
      "        0.],\n",
      "       [0., 0., 0., 0., 0., 0., 0., 0., 0., 0., 0., 0., 1., 1., 0., 0.,\n",
      "        0.],\n",
      "       [0., 0., 0., 0., 0., 0., 0., 1., 1., 0., 0., 0., 0., 0., 1., 1.,\n",
      "        0.],\n",
      "       [0., 0., 0., 0., 0., 0., 0., 0., 0., 0., 0., 0., 0., 0., 1., 1.,\n",
      "        1.],\n",
      "       [0., 0., 0., 0., 0., 0., 0., 0., 0., 0., 0., 0., 0., 0., 0., 1.,\n",
      "        1.]], dtype=float32),\n",
      " 'num_epochs': 100,\n",
      " 'num_layers': 5,\n",
      " 'out_joints': 17,\n",
      " 'regularization': 0.0,\n",
      " 'residual': True}\n",
      "Start with predictions\n",
      "I0000 00:00:1755616524.368483    5410 gpu_device.cc:2022] Created device /job:localhost/replica:0/task:0/device:GPU:0 with 15513 MB memory:  -> device: 0, name: Tesla P100-PCIE-16GB, pci bus id: 0000:00:04.0, compute capability: 6.0\n",
      "/kaggle/working/lcn-pose/network/../experiment/test2/checkpoints\n",
      "restore from /kaggle/working/lcn-pose/network/../experiment/test2/checkpoints/best/model-89958\n",
      "WARNING: All log messages before absl::InitializeLog() is called are written to STDERR\n",
      "I0000 00:00:1755616524.431466    5410 mlir_graph_optimization_pass.cc:401] MLIR V1 optimization pass is not enabled\n",
      "Predictions done\n"
     ]
    }
   ],
   "source": [
    "!python inference.py --train_set={TRAIN_SET} --test_set={TEST_SET} --mask-type {MASK_TYPE} --channels {F} --epoch={EPOCH} --dropout {DROPOUT} --layers {LAYERS} --batch_size {BATCH_SIZE} --knn {KNN} --learning_rate {LEARNING_RATE} --test-indices {TEST_INDICES} --regularization {REGULARIZATION} --checkpoints best"
   ]
  },
  {
   "cell_type": "markdown",
   "metadata": {},
   "source": [
    "# Evaluate"
   ]
  },
  {
   "cell_type": "code",
   "execution_count": null,
   "metadata": {},
   "outputs": [],
   "source": [
    "!python evaluate.py --test-indices {TEST_INDICES} --filename {TEST_SET}"
   ]
  },
  {
   "cell_type": "code",
   "execution_count": 39,
   "metadata": {
    "execution": {
     "iopub.execute_input": "2025-08-19T15:15:53.990717Z",
     "iopub.status.busy": "2025-08-19T15:15:53.990067Z",
     "iopub.status.idle": "2025-08-19T15:16:01.181728Z",
     "shell.execute_reply": "2025-08-19T15:16:01.181056Z",
     "shell.execute_reply.started": "2025-08-19T15:15:53.990675Z"
    },
    "trusted": true
   },
   "outputs": [
    {
     "name": "stdout",
     "output_type": "stream",
     "text": [
      "=> commd: _joint\n",
      "=> eval experiments: [2]\n",
      "loading dataset\n",
      "step:0--------------------\n",
      "86.96579421700413\n",
      "step:10000--------------------\n",
      "121.77959703218124\n",
      "step:20000--------------------\n",
      "87.56247975654983\n",
      "step:30000--------------------\n",
      "181.60739832718218\n",
      "step:40000--------------------\n",
      "142.98739138271605\n",
      "step:50000--------------------\n",
      "101.84788564378783\n",
      "step:60000--------------------\n",
      "129.96069684565765\n",
      "step:70000--------------------\n",
      "149.78133511549427\n",
      "step:80000--------------------\n",
      "110.79876292546864\n",
      "step:90000--------------------\n",
      "155.63095135351136\n",
      "step:100000--------------------\n",
      "119.55904091397531\n",
      "step:110000--------------------\n",
      "176.12367988744242\n",
      "step:120000--------------------\n",
      "75.6941329159518\n",
      "step:130000--------------------\n",
      "60.08118877847837\n",
      "step:140000--------------------\n",
      "104.96197608517265\n",
      "step:150000--------------------\n",
      "111.53177895827912\n",
      "0.0\n",
      "+-----------+-------+-------+--------+--------+--------+--------+--------+-------+--------+--------+--------+--------+--------+--------+--------+--------+--------+--------+\n",
      "| test_name |   0   |   1   |   2    |   3    |   4    |   5    |   6    |   7   |   8    |   9    |   10   |   11   |   12   |   13   |   14   |   15   |   16   |  avg   |\n",
      "+-----------+-------+-------+--------+--------+--------+--------+--------+-------+--------+--------+--------+--------+--------+--------+--------+--------+--------+--------+\n",
      "|   test2   | 73.80 | 81.66 | 132.45 | 128.35 | 114.22 | 153.54 | 155.13 | 87.84 | 102.28 | 126.86 | 125.51 | 104.05 | 136.59 | 162.19 | 127.45 | 182.60 | 204.22 | 129.34 |\n",
      "+-----------+-------+-------+--------+--------+--------+--------+--------+-------+--------+--------+--------+--------+--------+--------+--------+--------+--------+--------+\n"
     ]
    }
   ],
   "source": [
    "!python evaluate.py --test-indices {TEST_INDICES} --per-joint --filename {TEST_SET}"
   ]
  },
  {
   "cell_type": "code",
   "execution_count": null,
   "metadata": {},
   "outputs": [],
   "source": [
    "!python evaluate.py --test-indices {TEST_INDICES} --per-joint --filename {TEST_SET} --protocol2"
   ]
  }
 ],
 "metadata": {
  "kaggle": {
   "accelerator": "gpu",
   "dataSources": [],
   "isGpuEnabled": true,
   "isInternetEnabled": true,
   "language": "python",
   "sourceType": "notebook"
  },
  "kernelspec": {
   "display_name": "Python 3",
   "language": "python",
   "name": "python3"
  },
  "language_info": {
   "codemirror_mode": {
    "name": "ipython",
    "version": 3
   },
   "file_extension": ".py",
   "mimetype": "text/x-python",
   "name": "python",
   "nbconvert_exporter": "python",
   "pygments_lexer": "ipython3",
   "version": "3.11.13"
  }
 },
 "nbformat": 4,
 "nbformat_minor": 4
}
