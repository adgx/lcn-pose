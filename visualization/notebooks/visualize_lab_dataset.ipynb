{
 "cells": [
  {
   "cell_type": "markdown",
   "id": "3dad8057",
   "metadata": {},
   "source": [
    "# File to show the points over the image of the training dataset "
   ]
  },
  {
   "cell_type": "code",
   "execution_count": null,
   "id": "configured-crowd",
   "metadata": {},
   "outputs": [],
   "source": [
    "import numpy as np\n",
    "import sys\n",
    "sys.path.append('..')\n",
    "from util.dataset_util import read_data, project_3d_to_2d, plot_over_image"
   ]
  },
  {
   "cell_type": "code",
   "execution_count": null,
   "id": "absent-payroll",
   "metadata": {},
   "outputs": [],
   "source": [
    "# path to the parent directory (contains test/ meta/)\n",
    "dataset_name = 'humansc3d'"
   ]
  },
  {
   "cell_type": "code",
   "execution_count": null,
   "id": "c4819849",
   "metadata": {},
   "outputs": [],
   "source": [
    "data_root = '/Users/andreaongaro/Documents/Documenti Andrea Ongaro/Magistrale/Torino/Corsi/2_ANNO/ComputerVision/Project/lcn-pose/dataset/'\n",
    "subset = 'train' # select from ['train']\n",
    "subj_name = 's01' # subject names for 'train' subset\n",
    "action_name = '100'# action names\n",
    "camera_name = '60457274' # select from ['50591643', '58860488', '60457274', '65906101']"
   ]
  },
  {
   "cell_type": "code",
   "execution_count": null,
   "id": "palestinian-checkout",
   "metadata": {},
   "outputs": [],
   "source": [
    "frames, j3ds, cam_params, gpp_data, smplx_param_data, annotations = read_data(data_root, \n",
    "                                                                            dataset_name, \n",
    "                                                                            subset, \n",
    "                                                                            subj_name, \n",
    "                                                                            action_name, \n",
    "                                                                            camera_name)"
   ]
  },
  {
   "cell_type": "code",
   "execution_count": null,
   "id": "technical-discharge",
   "metadata": {},
   "outputs": [],
   "source": [
    "frame_id = annotations[action_name]['fr_id']\n",
    "j3d = j3ds[frame_id]\n",
    "R = cam_params['extrinsics']['R']\n",
    "T = cam_params['extrinsics']['T']\n",
    "print(R.shape)\n",
    "print(T.shape)\n",
    "print(np.transpose(R).shape)\n",
    "# Convert 3D joint coordinates to camera coordinates\n",
    "# Note: The camera extrinsics are assumed to be in the format [R|T], where R is the rotation matrix and T is the translation vector.\n",
    "# The translation vector T is subtracted from the 3D joint coordinates before applying the rotation.\n",
    "# This is a common convention in computer vision, but you should verify that this is the case for your specific dataset.\n",
    "\n",
    "print(\"DATI 3D\")\n",
    "j3d = j3d[:17]\n",
    "print(j3d)\n",
    "j3d_in_camera = np.matmul(np.array(j3d) - cam_params['extrinsics']['T'], np.transpose(cam_params['extrinsics']['R']))\n",
    "print(\"DATI 3D CONVERTITI\")\n",
    "print(j3d_in_camera)\n",
    "frame = frames[frame_id]\n",
    "j2d_camera = project_3d_to_2d(j3d_in_camera, cam_params['intrinsics_w_distortion'], 'w_distortion')\n",
    "print(\"DATI 2D\")\n",
    "print(j2d_camera)\n",
    "plot_over_image(frame, j2d_camera)"
   ]
  }
 ],
 "metadata": {
  "kernelspec": {
   "display_name": "py_cv",
   "language": "python",
   "name": "python3"
  },
  "language_info": {
   "codemirror_mode": {
    "name": "ipython",
    "version": 3
   },
   "file_extension": ".py",
   "mimetype": "text/x-python",
   "name": "python",
   "nbconvert_exporter": "python",
   "pygments_lexer": "ipython3",
   "version": "3.8.20"
  }
 },
 "nbformat": 4,
 "nbformat_minor": 5
}
