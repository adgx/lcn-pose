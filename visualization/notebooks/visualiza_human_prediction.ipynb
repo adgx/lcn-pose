{
 "cells": [
  {
   "cell_type": "code",
   "execution_count": null,
   "metadata": {},
   "outputs": [
    {
     "ename": "FileNotFoundError",
     "evalue": "File result.pkl not found at: /Users/andreaongaro/Documents/Documenti Andrea Ongaro/Magistrale/Torino/Corsi/2_ANNO/ComputerVision/Project/lcn-pose/visualization/notebooks/../../experiment/test7/result.pkl",
     "output_type": "error",
     "traceback": [
      "\u001b[0;31m---------------------------------------------------------------------------\u001b[0m",
      "\u001b[0;31mFileNotFoundError\u001b[0m                         Traceback (most recent call last)",
      "Cell \u001b[0;32mIn[2], line 22\u001b[0m\n\u001b[1;32m     20\u001b[0m data_pred_path \u001b[38;5;241m=\u001b[39m os\u001b[38;5;241m.\u001b[39mpath\u001b[38;5;241m.\u001b[39mjoin(ROOT_PATH, \u001b[38;5;124m'\u001b[39m\u001b[38;5;124m..\u001b[39m\u001b[38;5;124m'\u001b[39m, \u001b[38;5;124m'\u001b[39m\u001b[38;5;124m..\u001b[39m\u001b[38;5;124m'\u001b[39m, \u001b[38;5;124m'\u001b[39m\u001b[38;5;124mexperiment\u001b[39m\u001b[38;5;124m'\u001b[39m, \u001b[38;5;124m'\u001b[39m\u001b[38;5;124mtest\u001b[39m\u001b[38;5;124m'\u001b[39m\u001b[38;5;241m+\u001b[39m\u001b[38;5;28mstr\u001b[39m(n_test), \u001b[38;5;124m'\u001b[39m\u001b[38;5;124mresult.pkl\u001b[39m\u001b[38;5;124m'\u001b[39m)\n\u001b[1;32m     21\u001b[0m \u001b[38;5;28;01mif\u001b[39;00m \u001b[38;5;129;01mnot\u001b[39;00m os\u001b[38;5;241m.\u001b[39mpath\u001b[38;5;241m.\u001b[39mexists(data_pred_path):\n\u001b[0;32m---> 22\u001b[0m             \u001b[38;5;28;01mraise\u001b[39;00m \u001b[38;5;167;01mFileNotFoundError\u001b[39;00m(\u001b[38;5;124mf\u001b[39m\u001b[38;5;124m\"\u001b[39m\u001b[38;5;124mFile result.pkl not found at: \u001b[39m\u001b[38;5;132;01m{\u001b[39;00mdata_pred_path\u001b[38;5;132;01m}\u001b[39;00m\u001b[38;5;124m\"\u001b[39m)\n\u001b[1;32m     25\u001b[0m frames, j3ds, cam_params, _, _, annotations \u001b[38;5;241m=\u001b[39m read_data(data_root, \n\u001b[1;32m     26\u001b[0m                                                                             dataset_name, \n\u001b[1;32m     27\u001b[0m                                                                              subset, \n\u001b[1;32m     28\u001b[0m                                                                              subj_name, \n\u001b[1;32m     29\u001b[0m                                                                              action_name, \n\u001b[1;32m     30\u001b[0m                                                                              camera_name)\n\u001b[1;32m     32\u001b[0m \u001b[38;5;28;01mimport\u001b[39;00m\u001b[38;5;250m \u001b[39m\u001b[38;5;21;01mos\u001b[39;00m\n",
      "\u001b[0;31mFileNotFoundError\u001b[0m: File result.pkl not found at: /Users/andreaongaro/Documents/Documenti Andrea Ongaro/Magistrale/Torino/Corsi/2_ANNO/ComputerVision/Project/lcn-pose/visualization/notebooks/../../experiment/test7/result.pkl"
     ]
    }
   ],
   "source": [
    "import sys\n",
    "import numpy as np\n",
    "import os\n",
    "import re\n",
    "\n",
    "sys.path.append('..')\n",
    "from util.dataset_util import plot_over_image, read_data\n",
    "ROOT_PATH = os.getcwd()\n",
    "data_root = os.path.join(ROOT_PATH, '..', '..', 'dataset')\n",
    "\n",
    "subset = 'test' # select from ['train']\n",
    "subj_name = 's01_t' # subject names for 'train' subset\n",
    "digit_subj = int(re.search(r'\\d+', subj_name).group())\n",
    "action_name = '093'# action names\n",
    "camera_name = '50591643' # select from ['50591643', '58860488', '60457274', '65906101']\n",
    "# path to the parent directory (contains test/ meta/)\n",
    "dataset_name = 'humansc3d'\n",
    "idx_frame = 100 \n",
    "n_test = 14\n",
    "data_pred_path = os.path.join(ROOT_PATH, '..', '..', 'experiment', 'test'+str(n_test), 'result.pkl')\n",
    "if not os.path.exists(data_pred_path):\n",
    "            raise FileNotFoundError(f\"File result.pkl not found at: {data_pred_path}\")\n",
    "\n",
    "\n",
    "frames, j3ds, cam_params, _, _, annotations = read_data(data_root, \n",
    "                                                                            dataset_name, \n",
    "                                                                             subset, \n",
    "                                                                             subj_name, \n",
    "                                                                             action_name, \n",
    "                                                                             camera_name)\n",
    "\n",
    "import os\n",
    "import pickle\n",
    "\n",
    "DATAITEM_GT_PATH = os.path.join(data_root, dataset_name+\"_test.pkl\")\n",
    "dataitem_gt = []\n",
    "with open(DATAITEM_GT_PATH, 'rb') as f:\n",
    "    dataitem_gt = pickle.load(f)\n",
    "\n",
    "DBG = 1 \n",
    "\n",
    "if DBG:\n",
    "    with open(data_pred_path, 'rb') as f:\n",
    "        dir_preds = pickle.load(f)\n",
    "    preds = [item for item in dir_preds if int(item['videoid']) == int(action_name) and str(item['cameraid']) == camera_name and item['subject'] == digit_subj]\n",
    "    pred = preds[idx_frame]['result'] \n",
    "    \n",
    "else:\n",
    "    with open(data_pred_path, 'rb') as f:\n",
    "        preds = pickle.load(f)['result']  # [N, 17, 3]\n",
    "\n",
    "    preds = np.reshape(preds, (-1, 17, 3))\n",
    "    pred = preds[idx_frame]  # [17, 3]\n",
    "\n",
    "frame = frames[idx_frame]\n",
    "j2d_camera = pred[:, :2]\n",
    "print(\"PROIEZIONE 3D -> 2D\")\n",
    "print(j2d_camera)\n",
    "plot_over_image(frame, j2d_camera)"
   ]
  }
 ],
 "metadata": {
  "kernelspec": {
   "display_name": "py_cv",
   "language": "python",
   "name": "python3"
  },
  "language_info": {
   "codemirror_mode": {
    "name": "ipython",
    "version": 3
   },
   "file_extension": ".py",
   "mimetype": "text/x-python",
   "name": "python",
   "nbconvert_exporter": "python",
   "pygments_lexer": "ipython3",
   "version": "3.8.20"
  }
 },
 "nbformat": 4,
 "nbformat_minor": 2
}
